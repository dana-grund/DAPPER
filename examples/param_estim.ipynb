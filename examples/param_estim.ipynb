{
 "cells": [
  {
   "cell_type": "code",
   "execution_count": 3,
   "metadata": {},
   "outputs": [],
   "source": [
    "%matplotlib inline\n",
    "# %matplotlib notebook\n",
    "import numpy as np\n",
    "from mpl_tools import is_notebook_or_qt as nb"
   ]
  },
  {
   "cell_type": "code",
   "execution_count": 4,
   "metadata": {},
   "outputs": [],
   "source": [
    "import dapper as dpr\n",
    "import dapper.da_methods as da\n",
    "import dapper.mods as modelling\n",
    "import dapper.mods.Lorenz96 as core\n",
    "import dapper.tools.liveplotting as LP"
   ]
  },
  {
   "cell_type": "code",
   "execution_count": 5,
   "metadata": {},
   "outputs": [],
   "source": [
    "# #### Augmented dynamics\n",
    "\n",
    "# Dims of state and parameter\n",
    "Nx = 40\n",
    "Np = 1"
   ]
  },
  {
   "cell_type": "code",
   "execution_count": 6,
   "metadata": {},
   "outputs": [],
   "source": [
    "# Wrap core.dxdt so as to process an \"augmented\" state vector\n",
    "# that also contains parameter values.\n",
    "@modelling.ens_compatible\n",
    "def dxdt_augmented(x):\n",
    "    d = np.full_like(x, np.nan)     # Allocate. Use nan's to detect bugs.\n",
    "    core.Force = x[Nx:].T           # Set param\n",
    "    d[:Nx] = core.dxdt(x[:Nx].T).T  # Dynamics\n",
    "    d[Nx:] = 0                      # No dynamics (\"persistence\") for param.\n",
    "    return d"
   ]
  },
  {
   "cell_type": "code",
   "execution_count": 7,
   "metadata": {},
   "outputs": [],
   "source": [
    "# Note that the Force is a module-level variable,\n",
    "# that gets set repeatedly during the course of the assimilation.\n",
    "# This seems like it could easily lead to bugs.\n",
    "# A more robust approach would be if the Force was part of the\n",
    "# input arguments of `core.dxdt`. This could be achieved, for example, by\n",
    "# - re-writing core.dxdt so to process the augmented vector\n",
    "#   `[x, Force]` as the state variable.\n",
    "# - enclosing `dxdt` in an outer function which binds the value of the Force\n",
    "# - creating `dxdt` in an outer \"factory\" function which determines the\n",
    "#   shape and allocation of the input vector to dxdt.\n",
    "# - Do the latter using OOP. This would probably be more verbose,\n",
    "#   but even more flexible. In particular, OOP excels at working with multiple\n",
    "#   realisations of models at the same time. However, when using ensemble methods,\n",
    "#   the number of realisations, and the required level of automation\n",
    "#   (input vector/ensemble --> output vector/ensemble) is very high.\n",
    "#   It is not immediately clear if OOP is then more convenient.\n",
    "# - There are also some intriguing possibilities relating to namedtuples.\n",
    "# TODO 4: revise the above text.\n"
   ]
  },
  {
   "cell_type": "code",
   "execution_count": 8,
   "metadata": {},
   "outputs": [],
   "source": [
    "# Turn dxdt into `step` such that `x_{k+1} = step(x_k, t, dt)`\n",
    "step = modelling.with_rk4(dxdt_augmented, autonom=True)"
   ]
  },
  {
   "cell_type": "code",
   "execution_count": 9,
   "metadata": {},
   "outputs": [],
   "source": [
    "# #### HMM\n",
    "\n",
    "# Define the sequence of the experiment\n",
    "# See `modelling.Chronology` for more details.\n",
    "tseq = modelling.Chronology(\n",
    "    dt=0.05,     # Integrational time step\n",
    "    dko=1,     # Steps of duration dt between obs\n",
    "    Ko=10**3,  # Total number of obs in experiment\n",
    "    BurnIn=5,    # Omit from averages the period t=0 --> BurnIn\n",
    "    Tplot=7)     # Default plot length"
   ]
  },
  {
   "cell_type": "code",
   "execution_count": 10,
   "metadata": {},
   "outputs": [],
   "source": [
    "# Define dynamical model\n",
    "Dyn = {\n",
    "    'M': Nx+Np,     # Length of (total/augmented) state vector\n",
    "    'model': step,  # Actual model\n",
    "    'noise': 0,     # Additive noise (variance)\n",
    "    # 'noise': GaussRV(C=.1*np.eye(Nx+Np)),\n",
    "}"
   ]
  },
  {
   "cell_type": "code",
   "execution_count": 11,
   "metadata": {},
   "outputs": [],
   "source": [
    "# Define observation model using convenience function partial_Id_Obs\n",
    "jj = np.arange(Nx)  # obs indices (y = x[jj])\n",
    "Obs = modelling.partial_Id_Obs(Nx+Np, jj)\n",
    "Obs['noise'] = 1"
   ]
  },
  {
   "cell_type": "code",
   "execution_count": 12,
   "metadata": {},
   "outputs": [],
   "source": [
    "# Specify liveplotting (and replay) functionality.\n",
    "LP = [\n",
    "    (1, LP.spatial1d(jj)),\n",
    "    (1, LP.sliding_marginals(\n",
    "        jj, zoomy=0.8, dims=[0, Nx], labels=[\"$x_0$\", \"Force\"]),\n",
    "     ),\n",
    "]"
   ]
  },
  {
   "cell_type": "code",
   "execution_count": 13,
   "metadata": {},
   "outputs": [],
   "source": [
    "# Labels for sectors of state vector.\n",
    "# DAPPER will compute diagnostic statistics for the full state vector,\n",
    "# but also for each sector of it (averaged in space according to the\n",
    "# methods specified in your .dpr_config.yaml:field_summaries key).\n",
    "# The name \"sector\" comes from its typical usage to distinguish\n",
    "# \"ocean\" and \"land\" parts of the state vector.\n",
    "# Here we use it to get individual statistics of the parameter and state.\n",
    "parts = dict(state=np.arange(Nx),\n",
    "             param=np.arange(Np)+Nx)"
   ]
  },
  {
   "cell_type": "code",
   "execution_count": 14,
   "metadata": {},
   "outputs": [],
   "source": [
    "# Wrap-up model specification\n",
    "HMM = modelling.HiddenMarkovModel(Dyn, Obs, tseq, sectors=parts, LP=LP)"
   ]
  },
  {
   "cell_type": "code",
   "execution_count": 16,
   "metadata": {},
   "outputs": [],
   "source": [
    "# #### Treat truth and DA methods differently\n",
    "\n",
    "# Bocquet et al. do not sample the true parameter value from the\n",
    "# Bayesian (random) prior / initial cond's (ICs), given to the DA methods.\n",
    "# Instead it is simply set to 8.\n",
    "\n",
    "TRUTH = 8\n",
    "GUESS = 7"
   ]
  },
  {
   "cell_type": "code",
   "execution_count": 17,
   "metadata": {},
   "outputs": [],
   "source": [
    "# Seeing how far off the intial guess (and its uncertainty, defined below)\n",
    "# is from the truth, this constitutes a kind of  model error.\n",
    "# It is not a feature required to make this experiment interesting.\n",
    "# However, our goal here is to reproduce the results of Bocquet et al.,\n",
    "# so we will follow suit.\n",
    "#\n",
    "# PS: It often doesn't matter (for the time-averaged statistics)\n",
    "# what exact ICs are in play as long as the BurnIn is sufficiently large.\n",
    "# However, the setup defined here does make for pretty plots\n",
    "# at the beginning of the experiment."
   ]
  },
  {
   "cell_type": "code",
   "execution_count": 18,
   "metadata": {},
   "outputs": [],
   "source": [
    "# Let's define the prior/ICs as a Gaussian with diagonal covariance,\n",
    "# where the last part of the diagonal (corresponding to the parm.\n",
    "# component of the state vector) may be specified as an argument...\n",
    "def X0(param_mean, param_var):\n",
    "    # State\n",
    "    x0 = np.zeros(Nx)\n",
    "    C0 = .01*np.ones(Nx)\n",
    "    # Append param params\n",
    "    x0 = np.hstack([x0, param_mean*np.ones(Np)])\n",
    "    C0 = np.hstack([C0, param_var*np.ones(Np)])\n",
    "    return modelling.GaussRV(x0, C0)"
   ]
  },
  {
   "cell_type": "code",
   "execution_count": 19,
   "metadata": {},
   "outputs": [],
   "source": [
    "# ... Thus we can distinguish between the behaviour of the truth simulation,\n",
    "# and the dynamics for the DA methods.\n",
    "def set_X0_and_simulate(hmm, xp):\n",
    "    dpr.set_seed(3000)\n",
    "    hmm.X0 = X0(TRUTH, 0)\n",
    "    xx, yy = hmm.simulate()\n",
    "    hmm.X0 = X0(GUESS, 0.1**2)\n",
    "    return hmm, xx, yy"
   ]
  },
  {
   "cell_type": "code",
   "execution_count": 20,
   "metadata": {},
   "outputs": [],
   "source": [
    "# Note: An alternative approach might be to simply\n",
    "# write our own `simulate()` which merely sets the `Force` parameter,\n",
    "# rather than sampling it."
   ]
  },
  {
   "cell_type": "code",
   "execution_count": 21,
   "metadata": {},
   "outputs": [],
   "source": [
    "# #### DA methods configurations\n",
    "\n",
    "xps = dpr.xpList()\n",
    "# xps += da.PartFilt(N=1000, reg=1)  # works OK with Nx=6\n",
    "for N in [20, 50]:\n",
    "    # xps += da.EnKF('Sqrt', N, infl=1.04)\n",
    "    xps += da.EnKF_N(N, xN=2)\n",
    "    for Lag in [1, 4, 20]:\n",
    "        xps += da.iEnKS(\"Sqrt\", N, Lag=Lag, xN=2, wtol=1e-5)\n",
    "# TODO 4: Add 3D- and 4D-Var"
   ]
  },
  {
   "cell_type": "code",
   "execution_count": 22,
   "metadata": {},
   "outputs": [
    {
     "name": "stdout",
     "output_type": "stream",
     "text": [
      "Experiment gets stored at /home/dgrund/dpr_data/basic_3/run_2024-01-03__12-32-47\n"
     ]
    },
    {
     "data": {
      "application/vnd.jupyter.widget-view+json": {
       "model_id": "66be1945dfad4368b75863ba4e810c72",
       "version_major": 2,
       "version_minor": 0
      },
      "text/plain": [
       "Truth & Obs:   0%|          | 0/1001 [00:00<?, ?it/s]"
      ]
     },
     "metadata": {},
     "output_type": "display_data"
    },
    {
     "data": {
      "application/vnd.jupyter.widget-view+json": {
       "model_id": "5c3d89937fee4b1698912b3526a7ef72",
       "version_major": 2,
       "version_minor": 0
      },
      "text/plain": [
       "EnKF_N N:20:   0%|          | 0/1001 [00:00<?, ?it/s]"
      ]
     },
     "metadata": {},
     "output_type": "display_data"
    },
    {
     "data": {
      "application/vnd.jupyter.widget-view+json": {
       "model_id": "d498febf6e504b37a503e8ca6a37890a",
       "version_major": 2,
       "version_minor": 0
      },
      "text/plain": [
       "Truth & Obs:   0%|          | 0/1001 [00:00<?, ?it/s]"
      ]
     },
     "metadata": {},
     "output_type": "display_data"
    },
    {
     "data": {
      "application/vnd.jupyter.widget-view+json": {
       "model_id": "e4b5b408bcf24e12b06759a55b209d2f",
       "version_major": 2,
       "version_minor": 0
      },
      "text/plain": [
       "iEnKS N:20 Lag:1:   0%|          | 0/1002 [00:00<?, ?it/s]"
      ]
     },
     "metadata": {},
     "output_type": "display_data"
    },
    {
     "data": {
      "application/vnd.jupyter.widget-view+json": {
       "model_id": "f7dbe71295254068aef88c9067552cfb",
       "version_major": 2,
       "version_minor": 0
      },
      "text/plain": [
       "Truth & Obs:   0%|          | 0/1001 [00:00<?, ?it/s]"
      ]
     },
     "metadata": {},
     "output_type": "display_data"
    },
    {
     "data": {
      "application/vnd.jupyter.widget-view+json": {
       "model_id": "c67b54c5dad34bd0b764c6700edff6f8",
       "version_major": 2,
       "version_minor": 0
      },
      "text/plain": [
       "iEnKS N:20 Lag:4:   0%|          | 0/1005 [00:00<?, ?it/s]"
      ]
     },
     "metadata": {},
     "output_type": "display_data"
    },
    {
     "data": {
      "application/vnd.jupyter.widget-view+json": {
       "model_id": "2635d324b93341168c7b7ff943b63be6",
       "version_major": 2,
       "version_minor": 0
      },
      "text/plain": [
       "Truth & Obs:   0%|          | 0/1001 [00:00<?, ?it/s]"
      ]
     },
     "metadata": {},
     "output_type": "display_data"
    },
    {
     "data": {
      "application/vnd.jupyter.widget-view+json": {
       "model_id": "b4ffa1c3df7d425f895d17bc160f55a5",
       "version_major": 2,
       "version_minor": 0
      },
      "text/plain": [
       "iEnKS N:20 Lag:20:   0%|          | 0/1021 [00:00<?, ?it/s]"
      ]
     },
     "metadata": {},
     "output_type": "display_data"
    },
    {
     "data": {
      "application/vnd.jupyter.widget-view+json": {
       "model_id": "a31e46f349b34a4dacca7ff0469373fe",
       "version_major": 2,
       "version_minor": 0
      },
      "text/plain": [
       "Truth & Obs:   0%|          | 0/1001 [00:00<?, ?it/s]"
      ]
     },
     "metadata": {},
     "output_type": "display_data"
    },
    {
     "data": {
      "application/vnd.jupyter.widget-view+json": {
       "model_id": "5a45d439896e4910b5f742ce887415a7",
       "version_major": 2,
       "version_minor": 0
      },
      "text/plain": [
       "EnKF_N N:50:   0%|          | 0/1001 [00:00<?, ?it/s]"
      ]
     },
     "metadata": {},
     "output_type": "display_data"
    },
    {
     "data": {
      "application/vnd.jupyter.widget-view+json": {
       "model_id": "5277bb2d630b4967b66355aeb30657ed",
       "version_major": 2,
       "version_minor": 0
      },
      "text/plain": [
       "Truth & Obs:   0%|          | 0/1001 [00:00<?, ?it/s]"
      ]
     },
     "metadata": {},
     "output_type": "display_data"
    },
    {
     "data": {
      "application/vnd.jupyter.widget-view+json": {
       "model_id": "0fc4551b1ee74e4b893bbd21e29a4260",
       "version_major": 2,
       "version_minor": 0
      },
      "text/plain": [
       "iEnKS N:50 Lag:1:   0%|          | 0/1002 [00:00<?, ?it/s]"
      ]
     },
     "metadata": {},
     "output_type": "display_data"
    },
    {
     "data": {
      "application/vnd.jupyter.widget-view+json": {
       "model_id": "f36ee831ec4d4beca5a96ccc7b793c97",
       "version_major": 2,
       "version_minor": 0
      },
      "text/plain": [
       "Truth & Obs:   0%|          | 0/1001 [00:00<?, ?it/s]"
      ]
     },
     "metadata": {},
     "output_type": "display_data"
    },
    {
     "data": {
      "application/vnd.jupyter.widget-view+json": {
       "model_id": "4bd6e537a3214b1fb43e7a15c6fbb41b",
       "version_major": 2,
       "version_minor": 0
      },
      "text/plain": [
       "iEnKS N:50 Lag:4:   0%|          | 0/1005 [00:00<?, ?it/s]"
      ]
     },
     "metadata": {},
     "output_type": "display_data"
    },
    {
     "data": {
      "application/vnd.jupyter.widget-view+json": {
       "model_id": "413d74f07eb24ed0b1dcc5bac2ca0e02",
       "version_major": 2,
       "version_minor": 0
      },
      "text/plain": [
       "Truth & Obs:   0%|          | 0/1001 [00:00<?, ?it/s]"
      ]
     },
     "metadata": {},
     "output_type": "display_data"
    },
    {
     "data": {
      "application/vnd.jupyter.widget-view+json": {
       "model_id": "0e7c987cfbec431499333391b08530c5",
       "version_major": 2,
       "version_minor": 0
      },
      "text/plain": [
       "iEnKS N:50 Lag:20:   0%|          | 0/1021 [00:00<?, ?it/s]"
      ]
     },
     "metadata": {},
     "output_type": "display_data"
    }
   ],
   "source": [
    "# #### Launch experiments\n",
    "\n",
    "scriptname = \"basic_3\" if nb else __file__\n",
    "save_as = xps.launch(\n",
    "    HMM, scriptname, setup=set_X0_and_simulate,\n",
    "    mp=False,           # Multiprocessing\n",
    "    fail_gently=False,  # Facilitate debugging\n",
    "    liveplots=False,    # NB: Turn off if running iEnKS\n",
    "    free=False,         # Don't delete time series (enables replay)\n",
    ")"
   ]
  },
  {
   "cell_type": "code",
   "execution_count": 23,
   "metadata": {},
   "outputs": [
    {
     "name": "stdout",
     "output_type": "stream",
     "text": [
      "Loading 8 files from /home/dgrund/dpr_data/basic_3/run_2024-01-03__12-32-47\n"
     ]
    },
    {
     "data": {
      "application/vnd.jupyter.widget-view+json": {
       "model_id": "97d2e17d9093472397aead8ef1caf060",
       "version_major": 2,
       "version_minor": 0
      },
      "text/plain": [
       "Loading:   0%|          | 0/8 [00:00<?, ?it/s]"
      ]
     },
     "metadata": {},
     "output_type": "display_data"
    }
   ],
   "source": [
    "# #### Show results\n",
    "\n",
    "# Load data\n",
    "xps = dpr.xpList(dpr.load_xps(save_as))"
   ]
  },
  {
   "cell_type": "code",
   "execution_count": 24,
   "metadata": {},
   "outputs": [
    {
     "name": "stdout",
     "output_type": "stream",
     "text": [
      "   da_method   N  Lag  |  rmse.state.a  1σ     rmv.state.a  1σ     rmse.param.a  1σ      rmv.param.a  1σ    \n",
      "-  ---------  --  ---  -  -------------------  ------------------  --------------------  -------------------\n",
      "0  EnKF_N     20       |         0.178 ±0.004        0.197 ±0.003        0.014  ±0.004        0.018  ±0.004 \n",
      "1  iEnKS      20    1  |         0.172 ±0.004        0.193 ±0.003        0.013  ±0.003        0.0167 ±0.0008\n",
      "2  iEnKS      20    4  |         0.168 ±0.004        0.189 ±0.003        0.015  ±0.003        0.016  ±0.002 \n",
      "3  iEnKS      20   20  |         0.156 ±0.004        0.186 ±0.003        0.007  ±0.001        0.016  ±0.002 \n",
      "4  EnKF_N     50       |         0.171 ±0.004        0.183 ±0.004        0.007  ±0.002        0.010  ±0.001 \n",
      "5  iEnKS      50    1  |         0.164 ±0.004        0.179 ±0.003        0.006  ±0.001        0.009  ±0.001 \n",
      "6  iEnKS      50    4  |         0.154 ±0.004        0.171 ±0.003        0.0039 ±0.0006       0.0082 ±0.0009\n",
      "7  iEnKS      50   20  |         0.144 ±0.004        0.164 ±0.003        0.0027 ±0.0004       0.005  ±0.001 \n"
     ]
    }
   ],
   "source": [
    "# These scores may be validated by cross-checking with those\n",
    "# reported by bib.bocquet2013joint in their ...\n",
    "print(xps.tabulate_avrgs([\n",
    "    \"rmse.state.a\", \"rmv.state.a\",  # ... figure 6, and\n",
    "    \"rmse.param.a\", \"rmv.param.a\",  # ... figure 7.\n",
    "]))"
   ]
  },
  {
   "cell_type": "code",
   "execution_count": null,
   "metadata": {},
   "outputs": [],
   "source": [
    "# Note that only the data points at `Lag` (data assimilation window length) 0 and\n",
    "# 1 are reproduced by DAPPER, because the IEnKS in DAPPER does not have MDA\n",
    "# (in the same sense as bib.bocquet2013joint), which applies for `Lag>=2`.\n",
    "# Nevertheless, DAPPER's IEnKS accuracy also improves (both for state and param)\n",
    "# with increasing Lag. However, `Lag=100` is too much (causes divergence)\n",
    "# without the MDA component of by Bocquet et al."
   ]
  },
  {
   "cell_type": "code",
   "execution_count": 25,
   "metadata": {},
   "outputs": [
    {
     "ename": "IndexError",
     "evalue": "index 40 is out of bounds for axis 1 with size 2",
     "output_type": "error",
     "traceback": [
      "\u001b[0;31m---------------------------------------------------------------------------\u001b[0m",
      "\u001b[0;31mIndexError\u001b[0m                                Traceback (most recent call last)",
      "Cell \u001b[0;32mIn[25], line 2\u001b[0m\n\u001b[1;32m      1\u001b[0m \u001b[38;5;66;03m# Plots\u001b[39;00m\n\u001b[0;32m----> 2\u001b[0m \u001b[43mxps\u001b[49m\u001b[43m[\u001b[49m\u001b[38;5;241;43m-\u001b[39;49m\u001b[38;5;241;43m1\u001b[39;49m\u001b[43m]\u001b[49m\u001b[38;5;241;43m.\u001b[39;49m\u001b[43mstats\u001b[49m\u001b[38;5;241;43m.\u001b[39;49m\u001b[43mreplay\u001b[49m\u001b[43m(\u001b[49m\n\u001b[1;32m      3\u001b[0m \u001b[43m    \u001b[49m\u001b[38;5;66;43;03m# t1=0,\u001b[39;49;00m\n\u001b[1;32m      4\u001b[0m \u001b[43m    \u001b[49m\u001b[38;5;66;43;03m# t2=np.inf,\u001b[39;49;00m\n\u001b[1;32m      5\u001b[0m \u001b[43m)\u001b[49m\n",
      "File \u001b[0;32m~/git/dana-grund/DAPPER/dapper/stats.py:454\u001b[0m, in \u001b[0;36mStats.replay\u001b[0;34m(self, figlist, speed, t1, t2, **kwargs)\u001b[0m\n\u001b[1;32m    451\u001b[0m \u001b[38;5;28;01mexcept\u001b[39;00m \u001b[38;5;167;01mAttributeError\u001b[39;00m:  \u001b[38;5;66;03m# e.g. if X0 is defined via sampling func\u001b[39;00m\n\u001b[1;32m    452\u001b[0m     P0 \u001b[38;5;241m=\u001b[39m np\u001b[38;5;241m.\u001b[39meye(\u001b[38;5;28mself\u001b[39m\u001b[38;5;241m.\u001b[39mHMM\u001b[38;5;241m.\u001b[39mNx)\n\u001b[0;32m--> 454\u001b[0m LP \u001b[38;5;241m=\u001b[39m \u001b[43mliveplotting\u001b[49m\u001b[38;5;241;43m.\u001b[39;49m\u001b[43mLivePlot\u001b[49m\u001b[43m(\u001b[49m\u001b[38;5;28;43mself\u001b[39;49m\u001b[43m,\u001b[49m\u001b[43m \u001b[49m\u001b[43mfiglist\u001b[49m\u001b[43m,\u001b[49m\u001b[43m \u001b[49m\u001b[43mP\u001b[49m\u001b[38;5;241;43m=\u001b[39;49m\u001b[43mP0\u001b[49m\u001b[43m,\u001b[49m\u001b[43m \u001b[49m\u001b[43mspeed\u001b[49m\u001b[38;5;241;43m=\u001b[39;49m\u001b[43mspeed\u001b[49m\u001b[43m,\u001b[49m\n\u001b[1;32m    455\u001b[0m \u001b[43m                           \u001b[49m\u001b[43mTplot\u001b[49m\u001b[38;5;241;43m=\u001b[39;49m\u001b[43mt2\u001b[49m\u001b[38;5;241;43m-\u001b[39;49m\u001b[43mt1\u001b[49m\u001b[43m,\u001b[49m\u001b[43m \u001b[49m\u001b[43mreplay\u001b[49m\u001b[38;5;241;43m=\u001b[39;49m\u001b[38;5;28;43;01mTrue\u001b[39;49;00m\u001b[43m,\u001b[49m\u001b[43m \u001b[49m\u001b[38;5;241;43m*\u001b[39;49m\u001b[38;5;241;43m*\u001b[39;49m\u001b[43mkwargs\u001b[49m\u001b[43m)\u001b[49m\n\u001b[1;32m    457\u001b[0m \u001b[38;5;66;03m# Remember: must use progbar to unblock read1.\u001b[39;00m\n\u001b[1;32m    458\u001b[0m \u001b[38;5;66;03m# Let's also make a proper description.\u001b[39;00m\n\u001b[1;32m    459\u001b[0m desc \u001b[38;5;241m=\u001b[39m \u001b[38;5;28mself\u001b[39m\u001b[38;5;241m.\u001b[39mxp\u001b[38;5;241m.\u001b[39mda_method \u001b[38;5;241m+\u001b[39m \u001b[38;5;124m\"\u001b[39m\u001b[38;5;124m (replay)\u001b[39m\u001b[38;5;124m\"\u001b[39m\n",
      "File \u001b[0;32m~/git/dana-grund/DAPPER/dapper/tools/liveplotting.py:170\u001b[0m, in \u001b[0;36mLivePlot.__init__\u001b[0;34m(self, stats, liveplots, key0, E, P, speed, replay, **kwargs)\u001b[0m\n\u001b[1;32m    168\u001b[0m \u001b[38;5;66;03m# Init figure\u001b[39;00m\n\u001b[1;32m    169\u001b[0m post_title \u001b[38;5;241m=\u001b[39m \u001b[38;5;124m\"\u001b[39m\u001b[38;5;124m\"\u001b[39m \u001b[38;5;28;01mif\u001b[39;00m \u001b[38;5;28mself\u001b[39m\u001b[38;5;241m.\u001b[39mplot_u \u001b[38;5;28;01melse\u001b[39;00m \u001b[38;5;124m\"\u001b[39m\u001b[38;5;130;01m\\n\u001b[39;00m\u001b[38;5;124m(obs times only)\u001b[39m\u001b[38;5;124m\"\u001b[39m\n\u001b[0;32m--> 170\u001b[0m updater \u001b[38;5;241m=\u001b[39m \u001b[43minit\u001b[49m\u001b[43m(\u001b[49m\u001b[43mname\u001b[49m\u001b[43m,\u001b[49m\u001b[43m \u001b[49m\u001b[43mstats\u001b[49m\u001b[43m,\u001b[49m\u001b[43m \u001b[49m\u001b[43mkey0\u001b[49m\u001b[43m,\u001b[49m\u001b[43m \u001b[49m\u001b[38;5;28;43mself\u001b[39;49m\u001b[38;5;241;43m.\u001b[39;49m\u001b[43mplot_u\u001b[49m\u001b[43m,\u001b[49m\u001b[43m \u001b[49m\u001b[43mE\u001b[49m\u001b[43m,\u001b[49m\u001b[43m \u001b[49m\u001b[43mP\u001b[49m\u001b[43m,\u001b[49m\u001b[43m \u001b[49m\u001b[38;5;241;43m*\u001b[39;49m\u001b[38;5;241;43m*\u001b[39;49m\u001b[43mkwargs\u001b[49m\u001b[43m)\u001b[49m\n\u001b[1;32m    171\u001b[0m \u001b[38;5;28;01mif\u001b[39;00m plt\u001b[38;5;241m.\u001b[39mfignum_exists(name) \u001b[38;5;129;01mand\u001b[39;00m \u001b[38;5;28mgetattr\u001b[39m(updater, \u001b[38;5;124m'\u001b[39m\u001b[38;5;124mis_active\u001b[39m\u001b[38;5;124m'\u001b[39m, \u001b[38;5;241m1\u001b[39m):\n\u001b[1;32m    172\u001b[0m     \u001b[38;5;28mself\u001b[39m\u001b[38;5;241m.\u001b[39mfigures[name] \u001b[38;5;241m=\u001b[39m updater\n",
      "File \u001b[0;32m~/git/dana-grund/DAPPER/dapper/tools/liveplotting.py:750\u001b[0m, in \u001b[0;36msliding_marginals.<locals>.init\u001b[0;34m(fignum, stats, key0, plot_u, E, P, **kwargs)\u001b[0m\n\u001b[1;32m    748\u001b[0m \u001b[38;5;28;01mfor\u001b[39;00m ix, ax \u001b[38;5;129;01min\u001b[39;00m \u001b[38;5;28mzip\u001b[39m(p\u001b[38;5;241m.\u001b[39mdims, axs):\n\u001b[1;32m    749\u001b[0m     \u001b[38;5;28;01mif\u001b[39;00m \u001b[38;5;28;01mTrue\u001b[39;00m:\n\u001b[0;32m--> 750\u001b[0m         h\u001b[38;5;241m.\u001b[39mx  \u001b[38;5;241m+\u001b[39m\u001b[38;5;241m=\u001b[39m ax\u001b[38;5;241m.\u001b[39mplot(d\u001b[38;5;241m.\u001b[39mt, \u001b[43md\u001b[49m\u001b[38;5;241;43m.\u001b[39;49m\u001b[43mx\u001b[49m\u001b[43m[\u001b[49m\u001b[43m:\u001b[49m\u001b[43m,\u001b[49m\u001b[43m \u001b[49m\u001b[43mix\u001b[49m\u001b[43m]\u001b[49m, \u001b[38;5;124m'\u001b[39m\u001b[38;5;124mk\u001b[39m\u001b[38;5;124m'\u001b[39m)\n\u001b[1;32m    751\u001b[0m     \u001b[38;5;28;01mif\u001b[39;00m not_empty(p\u001b[38;5;241m.\u001b[39mobs_inds):\n\u001b[1;32m    752\u001b[0m         h\u001b[38;5;241m.\u001b[39my  \u001b[38;5;241m+\u001b[39m\u001b[38;5;241m=\u001b[39m ax\u001b[38;5;241m.\u001b[39mplot(d\u001b[38;5;241m.\u001b[39mt, d\u001b[38;5;241m.\u001b[39my[:, ix], \u001b[38;5;124m'\u001b[39m\u001b[38;5;124mg*\u001b[39m\u001b[38;5;124m'\u001b[39m, ms\u001b[38;5;241m=\u001b[39m\u001b[38;5;241m10\u001b[39m)\n",
      "File \u001b[0;32m~/git/dana-grund/DAPPER/dapper/tools/series.py:291\u001b[0m, in \u001b[0;36mRollingArray.__getitem__\u001b[0;34m(self, key)\u001b[0m\n\u001b[0;32m--> 291\u001b[0m \u001b[38;5;28;01mdef\u001b[39;00m \u001b[38;5;21m__getitem__\u001b[39m(\u001b[38;5;28mself\u001b[39m, key): \u001b[38;5;28;01mreturn\u001b[39;00m \u001b[38;5;28;43mself\u001b[39;49m\u001b[38;5;241;43m.\u001b[39;49m\u001b[43marray\u001b[49m\u001b[43m[\u001b[49m\u001b[43mkey\u001b[49m\u001b[43m]\u001b[49m\n",
      "\u001b[0;31mIndexError\u001b[0m: index 40 is out of bounds for axis 1 with size 2"
     ]
    },
    {
     "data": {
      "image/png": "[encoded data removed]",
      "text/plain": [
       "<Figure size 500x300 with 2 Axes>"
      ]
     },
     "metadata": {},
     "output_type": "display_data"
    },
    {
     "data": {
      "image/png": "[encoded data removed]",
      "text/plain": [
       "<Figure size 500x700 with 2 Axes>"
      ]
     },
     "metadata": {},
     "output_type": "display_data"
    }
   ],
   "source": [
    "# Plots\n",
    "xps[-1].stats.replay(\n",
    "    # t1=0,\n",
    "    # t2=np.inf,\n",
    ")"
   ]
  },
  {
   "cell_type": "code",
   "execution_count": null,
   "metadata": {},
   "outputs": [],
   "source": []
  }
 ],
 "metadata": {
  "kernelspec": {
   "display_name": "dapper-env",
   "language": "python",
   "name": "python3"
  },
  "language_info": {
   "codemirror_mode": {
    "name": "ipython",
    "version": 3
   },
   "file_extension": ".py",
   "mimetype": "text/x-python",
   "name": "python",
   "nbconvert_exporter": "python",
   "pygments_lexer": "ipython3",
   "version": "3.9.18"
  }
 },
 "nbformat": 4,
 "nbformat_minor": 2
}
